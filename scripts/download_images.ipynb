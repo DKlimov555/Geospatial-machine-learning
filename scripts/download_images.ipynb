{
 "cells": [
  {
   "cell_type": "markdown",
   "metadata": {},
   "source": [
    "Skip the first two steps if you've already ran them and simply need to continue downloading images"
   ]
  },
  {
   "cell_type": "code",
   "execution_count": 3,
   "metadata": {
    "tags": []
   },
   "outputs": [
    {
     "name": "stdout",
     "output_type": "stream",
     "text": [
      "2.31.0\n"
     ]
    }
   ],
   "source": [
    "import math\n",
    "import random\n",
    "import os\n",
    "import numpy as np\n",
    "import pandas as pd\n",
    "from osgeo import gdal, osr\n",
    "from tqdm.notebook import tqdm\n",
    "\n",
    "import requests\n",
    "import matplotlib.pyplot as plt\n",
    "from io import BytesIO\n",
    "import logging\n",
    "import time\n",
    "\n",
    "print(requests.__version__)"
   ]
  },
  {
   "cell_type": "code",
   "execution_count": 4,
   "metadata": {
    "tags": []
   },
   "outputs": [],
   "source": [
    "BASE_DIR = '..'\n",
    "COUNTRIES_DIR = os.path.join(BASE_DIR, 'data', 'countries')\n",
    "PROCESSED_DIR = os.path.join(BASE_DIR, 'data', 'processed')\n",
    "# can try using the google downloader, in which case change this to be your google api token\n",
    "ACCESS_TOKEN_DIR = os.path.join(BASE_DIR, 'google_api_key.txt')\n",
    "\n",
    "RANDOM_SEED = 7 # for reproducibility\n",
    "\n",
    "# each cluster must have AT LEAST this many images after doing nightlights processing\n",
    "MIN_IMAGES_PER_CLUSTER = 10"
   ]
  },
  {
   "cell_type": "code",
   "execution_count": 5,
   "metadata": {
    "tags": []
   },
   "outputs": [],
   "source": [
    "import sys\n",
    "sys.path.append(BASE_DIR)\n",
    "from utils import create_space"
   ]
  },
  {
   "cell_type": "markdown",
   "metadata": {},
   "source": [
    "# Generate Download Locations"
   ]
  },
  {
   "cell_type": "code",
   "execution_count": 6,
   "metadata": {
    "tags": []
   },
   "outputs": [],
   "source": [
    "df_mw = pd.read_csv(os.path.join(COUNTRIES_DIR, 'malawi_2019', 'processed/clusters.csv'))\n",
    "df_eth = pd.read_csv(os.path.join(COUNTRIES_DIR, 'ethiopia_2019', 'processed/clusters.csv'))\n",
    "df_ng = pd.read_csv(os.path.join(COUNTRIES_DIR, 'nigeria_2019', 'processed/clusters.csv'))"
   ]
  },
  {
   "cell_type": "code",
   "execution_count": 7,
   "metadata": {
    "tags": []
   },
   "outputs": [
    {
     "ename": "FileExistsError",
     "evalue": "[WinError 183] Cannot create a file when that file already exists: '..\\\\data\\\\countries\\\\malawi_2019\\\\images'",
     "output_type": "error",
     "traceback": [
      "\u001b[1;31m---------------------------------------------------------------------------\u001b[0m",
      "\u001b[1;31mFileExistsError\u001b[0m                           Traceback (most recent call last)",
      "Cell \u001b[1;32mIn[7], line 2\u001b[0m\n\u001b[0;32m      1\u001b[0m \u001b[38;5;28;01mfor\u001b[39;00m country \u001b[38;5;129;01min\u001b[39;00m [\u001b[38;5;124m'\u001b[39m\u001b[38;5;124mmalawi_2019\u001b[39m\u001b[38;5;124m'\u001b[39m, \u001b[38;5;124m'\u001b[39m\u001b[38;5;124methiopia_2019\u001b[39m\u001b[38;5;124m'\u001b[39m, \u001b[38;5;124m'\u001b[39m\u001b[38;5;124mnigeria_2019\u001b[39m\u001b[38;5;124m'\u001b[39m]:\n\u001b[1;32m----> 2\u001b[0m     \u001b[43mos\u001b[49m\u001b[38;5;241;43m.\u001b[39;49m\u001b[43mmakedirs\u001b[49m\u001b[43m(\u001b[49m\u001b[43mos\u001b[49m\u001b[38;5;241;43m.\u001b[39;49m\u001b[43mpath\u001b[49m\u001b[38;5;241;43m.\u001b[39;49m\u001b[43mjoin\u001b[49m\u001b[43m(\u001b[49m\u001b[43mCOUNTRIES_DIR\u001b[49m\u001b[43m,\u001b[49m\u001b[43m \u001b[49m\u001b[43mcountry\u001b[49m\u001b[43m,\u001b[49m\u001b[43m \u001b[49m\u001b[38;5;124;43m'\u001b[39;49m\u001b[38;5;124;43mimages\u001b[39;49m\u001b[38;5;124;43m'\u001b[39;49m\u001b[43m)\u001b[49m\u001b[43m,\u001b[49m\u001b[43m \u001b[49m\u001b[43mexist_ok\u001b[49m\u001b[38;5;241;43m=\u001b[39;49m\u001b[38;5;28;43;01mFalse\u001b[39;49;00m\u001b[43m)\u001b[49m\n",
      "File \u001b[1;32m~\\miniconda3\\envs\\nightlight\\lib\\os.py:225\u001b[0m, in \u001b[0;36mmakedirs\u001b[1;34m(name, mode, exist_ok)\u001b[0m\n\u001b[0;32m    223\u001b[0m         \u001b[38;5;28;01mreturn\u001b[39;00m\n\u001b[0;32m    224\u001b[0m \u001b[38;5;28;01mtry\u001b[39;00m:\n\u001b[1;32m--> 225\u001b[0m     \u001b[43mmkdir\u001b[49m\u001b[43m(\u001b[49m\u001b[43mname\u001b[49m\u001b[43m,\u001b[49m\u001b[43m \u001b[49m\u001b[43mmode\u001b[49m\u001b[43m)\u001b[49m\n\u001b[0;32m    226\u001b[0m \u001b[38;5;28;01mexcept\u001b[39;00m \u001b[38;5;167;01mOSError\u001b[39;00m:\n\u001b[0;32m    227\u001b[0m     \u001b[38;5;66;03m# Cannot rely on checking for EEXIST, since the operating system\u001b[39;00m\n\u001b[0;32m    228\u001b[0m     \u001b[38;5;66;03m# could give priority to other errors like EACCES or EROFS\u001b[39;00m\n\u001b[0;32m    229\u001b[0m     \u001b[38;5;28;01mif\u001b[39;00m \u001b[38;5;129;01mnot\u001b[39;00m exist_ok \u001b[38;5;129;01mor\u001b[39;00m \u001b[38;5;129;01mnot\u001b[39;00m path\u001b[38;5;241m.\u001b[39misdir(name):\n",
      "\u001b[1;31mFileExistsError\u001b[0m: [WinError 183] Cannot create a file when that file already exists: '..\\\\data\\\\countries\\\\malawi_2019\\\\images'"
     ]
    }
   ],
   "source": [
    "for country in ['malawi_2019', 'ethiopia_2019', 'nigeria_2019']:\n",
    "    os.makedirs(os.path.join(COUNTRIES_DIR, country, 'images'), exist_ok=False)"
   ]
  },
  {
   "cell_type": "code",
   "execution_count": 8,
   "metadata": {
    "tags": []
   },
   "outputs": [],
   "source": [
    "def generate_download_locations(df, ipc=50):\n",
    "    '''\n",
    "    Takes a dataframe with columns cluster_lat, cluster_lon\n",
    "    Generates a 10km x 10km bounding box around the cluster and samples \n",
    "    ipc images per cluster. First samples in a grid fashion, then any \n",
    "    remaining points are randomly (uniformly) chosen\n",
    "    '''\n",
    "    np.random.seed(RANDOM_SEED) # for reproducability\n",
    "    df_download = {'image_name': [], 'image_lat': [], 'image_lon': [], 'cluster_lat': [], \n",
    "                   'cluster_lon': [], 'cons_pc': [], 'nightlights': [] }\n",
    "    \n",
    "    # side length of square for uniform distribution\n",
    "    edge_num = math.floor(math.sqrt(ipc))\n",
    "    for _, r in df.iterrows():\n",
    "        min_lat, min_lon, max_lat, max_lon = create_space(r.cluster_lat, r.cluster_lon)\n",
    "        lats = np.linspace(min_lat, max_lat, edge_num).tolist()\n",
    "        lons = np.linspace(min_lon, max_lon, edge_num).tolist()\n",
    "\n",
    "        # performs cartesian product\n",
    "        uniform_points = np.transpose([np.tile(lats, len(lons)), np.repeat(lons, len(lats))])\n",
    "        \n",
    "        lats = uniform_points[:,0].tolist()\n",
    "        lons = uniform_points[:,1].tolist()\n",
    "        \n",
    "        # fills the remainder with random points\n",
    "        for _ in range(ipc - edge_num * edge_num):\n",
    "            lat = random.uniform(min_lat, max_lat)\n",
    "            lon = random.uniform(min_lon, max_lon)\n",
    "            lats.append(lat)\n",
    "            lons.append(lon)\n",
    "        \n",
    "        # add to dict\n",
    "        for lat, lon in zip(lats, lons):\n",
    "            # image name is going to be image_lat_image_lon_cluster_lat_cluster_lon.png\n",
    "            image_name = str(lat) + '_' + str(lon) + '_' + str(r.cluster_lat) + '_' + str(r.cluster_lon) + '.png'\n",
    "            df_download['image_name'].append(image_name)\n",
    "            df_download['image_lat'].append(lat)\n",
    "            df_download['image_lon'].append(lon)\n",
    "            df_download['cluster_lat'].append(r.cluster_lat)\n",
    "            df_download['cluster_lon'].append(r.cluster_lon)\n",
    "            df_download['cons_pc'].append(r.cons_pc)\n",
    "            df_download['nightlights'].append(r.nightlights)\n",
    "        \n",
    "    return pd.DataFrame.from_dict(df_download)"
   ]
  },
  {
   "cell_type": "code",
   "execution_count": 9,
   "metadata": {
    "tags": []
   },
   "outputs": [],
   "source": [
    "df_mw_download = generate_download_locations(df_mw)\n",
    "df_eth_download = generate_download_locations(df_eth)\n",
    "df_ng_download = generate_download_locations(df_ng)"
   ]
  },
  {
   "cell_type": "code",
   "execution_count": 10,
   "metadata": {
    "tags": []
   },
   "outputs": [
    {
     "data": {
      "text/plain": [
       "((35400, 7), (25800, 7), (32100, 7))"
      ]
     },
     "execution_count": 10,
     "metadata": {},
     "output_type": "execute_result"
    }
   ],
   "source": [
    "df_mw_download.shape, df_eth_download.shape, df_ng_download.shape"
   ]
  },
  {
   "cell_type": "code",
   "execution_count": 11,
   "metadata": {
    "tags": []
   },
   "outputs": [
    {
     "data": {
      "text/html": [
       "<div>\n",
       "<style scoped>\n",
       "    .dataframe tbody tr th:only-of-type {\n",
       "        vertical-align: middle;\n",
       "    }\n",
       "\n",
       "    .dataframe tbody tr th {\n",
       "        vertical-align: top;\n",
       "    }\n",
       "\n",
       "    .dataframe thead th {\n",
       "        text-align: right;\n",
       "    }\n",
       "</style>\n",
       "<table border=\"1\" class=\"dataframe\">\n",
       "  <thead>\n",
       "    <tr style=\"text-align: right;\">\n",
       "      <th></th>\n",
       "      <th>image_name</th>\n",
       "      <th>image_lat</th>\n",
       "      <th>image_lon</th>\n",
       "      <th>cluster_lat</th>\n",
       "      <th>cluster_lon</th>\n",
       "      <th>cons_pc</th>\n",
       "      <th>nightlights</th>\n",
       "    </tr>\n",
       "  </thead>\n",
       "  <tbody>\n",
       "    <tr>\n",
       "      <th>0</th>\n",
       "      <td>-17.138446419113176_35.20822373164363_-17.0935...</td>\n",
       "      <td>-17.138446</td>\n",
       "      <td>35.208224</td>\n",
       "      <td>-17.093531</td>\n",
       "      <td>35.253139</td>\n",
       "      <td>1.994561</td>\n",
       "      <td>0.034344</td>\n",
       "    </tr>\n",
       "    <tr>\n",
       "      <th>1</th>\n",
       "      <td>-17.123474497711186_35.20822373164363_-17.0935...</td>\n",
       "      <td>-17.123474</td>\n",
       "      <td>35.208224</td>\n",
       "      <td>-17.093531</td>\n",
       "      <td>35.253139</td>\n",
       "      <td>1.994561</td>\n",
       "      <td>0.034344</td>\n",
       "    </tr>\n",
       "    <tr>\n",
       "      <th>2</th>\n",
       "      <td>-17.108502576309192_35.20822373164363_-17.0935...</td>\n",
       "      <td>-17.108503</td>\n",
       "      <td>35.208224</td>\n",
       "      <td>-17.093531</td>\n",
       "      <td>35.253139</td>\n",
       "      <td>1.994561</td>\n",
       "      <td>0.034344</td>\n",
       "    </tr>\n",
       "    <tr>\n",
       "      <th>3</th>\n",
       "      <td>-17.0935306549072_35.20822373164363_-17.093530...</td>\n",
       "      <td>-17.093531</td>\n",
       "      <td>35.208224</td>\n",
       "      <td>-17.093531</td>\n",
       "      <td>35.253139</td>\n",
       "      <td>1.994561</td>\n",
       "      <td>0.034344</td>\n",
       "    </tr>\n",
       "    <tr>\n",
       "      <th>4</th>\n",
       "      <td>-17.07855873350521_35.20822373164363_-17.09353...</td>\n",
       "      <td>-17.078559</td>\n",
       "      <td>35.208224</td>\n",
       "      <td>-17.093531</td>\n",
       "      <td>35.253139</td>\n",
       "      <td>1.994561</td>\n",
       "      <td>0.034344</td>\n",
       "    </tr>\n",
       "  </tbody>\n",
       "</table>\n",
       "</div>"
      ],
      "text/plain": [
       "                                          image_name  image_lat  image_lon  \\\n",
       "0  -17.138446419113176_35.20822373164363_-17.0935... -17.138446  35.208224   \n",
       "1  -17.123474497711186_35.20822373164363_-17.0935... -17.123474  35.208224   \n",
       "2  -17.108502576309192_35.20822373164363_-17.0935... -17.108503  35.208224   \n",
       "3  -17.0935306549072_35.20822373164363_-17.093530... -17.093531  35.208224   \n",
       "4  -17.07855873350521_35.20822373164363_-17.09353... -17.078559  35.208224   \n",
       "\n",
       "   cluster_lat  cluster_lon   cons_pc  nightlights  \n",
       "0   -17.093531    35.253139  1.994561     0.034344  \n",
       "1   -17.093531    35.253139  1.994561     0.034344  \n",
       "2   -17.093531    35.253139  1.994561     0.034344  \n",
       "3   -17.093531    35.253139  1.994561     0.034344  \n",
       "4   -17.093531    35.253139  1.994561     0.034344  "
      ]
     },
     "execution_count": 11,
     "metadata": {},
     "output_type": "execute_result"
    }
   ],
   "source": [
    "df_mw_download.head()"
   ]
  },
  {
   "cell_type": "code",
   "execution_count": 12,
   "metadata": {},
   "outputs": [
    {
     "name": "stdout",
     "output_type": "stream",
     "text": [
      "Latitude Min: -17.138446419113176, Max: -9.353524596816973\n",
      "Longitude Min: 32.80279389155572, Max: 35.919427482955975\n"
     ]
    }
   ],
   "source": [
    "#Seems like theres an erroneous outlier cluster. Testing:\n",
    "lat_min = df_mw_download['image_lat'].min()\n",
    "lat_max = df_mw_download['image_lat'].max()\n",
    "lon_min = df_mw_download['image_lon'].min()\n",
    "lon_max = df_mw_download['image_lon'].max()\n",
    "\n",
    "print(f\"Latitude Min: {lat_min}, Max: {lat_max}\")\n",
    "print(f\"Longitude Min: {lon_min}, Max: {lon_max}\")\n"
   ]
  },
  {
   "cell_type": "code",
   "execution_count": 13,
   "metadata": {},
   "outputs": [],
   "source": [
    "#remove outlier\n",
    "# Define a threshold near zero to identify outliers\n",
    "outlier_threshold = 0.1\n",
    "\n",
    "# Filter out the outliers where both latitude and longitude are within the outlier threshold directly in the df_mw_download DataFrame\n",
    "df_mw_download = df_mw_download[~((abs(df_mw_download['image_lat']) < outlier_threshold) & \n",
    "                                  (abs(df_mw_download['image_lon']) < outlier_threshold))]\n",
    "\n",
    "# You can then proceed with the rest of your analysis with df_mw_download\n"
   ]
  },
  {
   "cell_type": "code",
   "execution_count": 14,
   "metadata": {
    "scrolled": true
   },
   "outputs": [
    {
     "data": {
      "image/png": "[encoded data removed]",
      "text/plain": [
       "<Figure size 640x480 with 1 Axes>"
      ]
     },
     "metadata": {},
     "output_type": "display_data"
    }
   ],
   "source": [
    "# plot for illustration purposes\n",
    "\n",
    "import geopandas as gpd\n",
    "import matplotlib.pyplot as plt\n",
    "\n",
    "gdf = gpd.GeoDataFrame(\n",
    "    df_mw_download, \n",
    "    geometry=gpd.points_from_xy(df_mw_download.image_lon, df_mw_download.image_lat)\n",
    ")\n",
    "\n",
    "# Basic plot\n",
    "gdf.plot(marker='o', color='blue', markersize=5)\n",
    "\n",
    "plt.xlabel('Longitude')\n",
    "plt.ylabel('Latitude')\n",
    "plt.title('Spatial Distribution of Download Locations in Malawi')\n",
    "\n",
    "plt.show()"
   ]
  },
  {
   "cell_type": "code",
   "execution_count": 15,
   "metadata": {
    "tags": []
   },
   "outputs": [
    {
     "data": {
      "text/html": [
       "<div>\n",
       "<style scoped>\n",
       "    .dataframe tbody tr th:only-of-type {\n",
       "        vertical-align: middle;\n",
       "    }\n",
       "\n",
       "    .dataframe tbody tr th {\n",
       "        vertical-align: top;\n",
       "    }\n",
       "\n",
       "    .dataframe thead th {\n",
       "        text-align: right;\n",
       "    }\n",
       "</style>\n",
       "<table border=\"1\" class=\"dataframe\">\n",
       "  <thead>\n",
       "    <tr style=\"text-align: right;\">\n",
       "      <th></th>\n",
       "      <th>image_name</th>\n",
       "      <th>image_lat</th>\n",
       "      <th>image_lon</th>\n",
       "      <th>cluster_lat</th>\n",
       "      <th>cluster_lon</th>\n",
       "      <th>cons_pc</th>\n",
       "      <th>nightlights</th>\n",
       "    </tr>\n",
       "  </thead>\n",
       "  <tbody>\n",
       "    <tr>\n",
       "      <th>0</th>\n",
       "      <td>3.564468534118614_38.976587684280325_3.6093842...</td>\n",
       "      <td>3.564469</td>\n",
       "      <td>38.976588</td>\n",
       "      <td>3.609384</td>\n",
       "      <td>39.021503</td>\n",
       "      <td>16.641462</td>\n",
       "      <td>0.010387</td>\n",
       "    </tr>\n",
       "    <tr>\n",
       "      <th>1</th>\n",
       "      <td>3.579440455520606_38.976587684280325_3.6093842...</td>\n",
       "      <td>3.579440</td>\n",
       "      <td>38.976588</td>\n",
       "      <td>3.609384</td>\n",
       "      <td>39.021503</td>\n",
       "      <td>16.641462</td>\n",
       "      <td>0.010387</td>\n",
       "    </tr>\n",
       "    <tr>\n",
       "      <th>2</th>\n",
       "      <td>3.5944123769225977_38.976587684280325_3.609384...</td>\n",
       "      <td>3.594412</td>\n",
       "      <td>38.976588</td>\n",
       "      <td>3.609384</td>\n",
       "      <td>39.021503</td>\n",
       "      <td>16.641462</td>\n",
       "      <td>0.010387</td>\n",
       "    </tr>\n",
       "    <tr>\n",
       "      <th>3</th>\n",
       "      <td>3.60938429832459_38.976587684280325_3.60938429...</td>\n",
       "      <td>3.609384</td>\n",
       "      <td>38.976588</td>\n",
       "      <td>3.609384</td>\n",
       "      <td>39.021503</td>\n",
       "      <td>16.641462</td>\n",
       "      <td>0.010387</td>\n",
       "    </tr>\n",
       "    <tr>\n",
       "      <th>4</th>\n",
       "      <td>3.624356219726582_38.976587684280325_3.6093842...</td>\n",
       "      <td>3.624356</td>\n",
       "      <td>38.976588</td>\n",
       "      <td>3.609384</td>\n",
       "      <td>39.021503</td>\n",
       "      <td>16.641462</td>\n",
       "      <td>0.010387</td>\n",
       "    </tr>\n",
       "  </tbody>\n",
       "</table>\n",
       "</div>"
      ],
      "text/plain": [
       "                                          image_name  image_lat  image_lon  \\\n",
       "0  3.564468534118614_38.976587684280325_3.6093842...   3.564469  38.976588   \n",
       "1  3.579440455520606_38.976587684280325_3.6093842...   3.579440  38.976588   \n",
       "2  3.5944123769225977_38.976587684280325_3.609384...   3.594412  38.976588   \n",
       "3  3.60938429832459_38.976587684280325_3.60938429...   3.609384  38.976588   \n",
       "4  3.624356219726582_38.976587684280325_3.6093842...   3.624356  38.976588   \n",
       "\n",
       "   cluster_lat  cluster_lon    cons_pc  nightlights  \n",
       "0     3.609384    39.021503  16.641462     0.010387  \n",
       "1     3.609384    39.021503  16.641462     0.010387  \n",
       "2     3.609384    39.021503  16.641462     0.010387  \n",
       "3     3.609384    39.021503  16.641462     0.010387  \n",
       "4     3.609384    39.021503  16.641462     0.010387  "
      ]
     },
     "execution_count": 15,
     "metadata": {},
     "output_type": "execute_result"
    }
   ],
   "source": [
    "df_eth_download.head()\n",
    "\n"
   ]
  },
  {
   "cell_type": "code",
   "execution_count": 16,
   "metadata": {},
   "outputs": [
    {
     "data": {
      "image/png": "[encoded data removed]",
      "text/plain": [
       "<Figure size 640x480 with 1 Axes>"
      ]
     },
     "metadata": {},
     "output_type": "display_data"
    }
   ],
   "source": [
    "gdf = gpd.GeoDataFrame(\n",
    "    df_eth_download, \n",
    "    geometry=gpd.points_from_xy(df_eth_download.image_lon, df_eth_download.image_lat)\n",
    ")\n",
    "\n",
    "# Basic plot\n",
    "gdf.plot(marker='o', color='blue', markersize=5)\n",
    "\n",
    "plt.xlabel('Longitude')\n",
    "plt.ylabel('Latitude')\n",
    "plt.title('Spatial Distribution of Download Locations in Ethiopia')\n",
    "\n",
    "plt.show()"
   ]
  },
  {
   "cell_type": "code",
   "execution_count": 17,
   "metadata": {
    "tags": []
   },
   "outputs": [
    {
     "data": {
      "text/html": [
       "<div>\n",
       "<style scoped>\n",
       "    .dataframe tbody tr th:only-of-type {\n",
       "        vertical-align: middle;\n",
       "    }\n",
       "\n",
       "    .dataframe tbody tr th {\n",
       "        vertical-align: top;\n",
       "    }\n",
       "\n",
       "    .dataframe thead th {\n",
       "        text-align: right;\n",
       "    }\n",
       "</style>\n",
       "<table border=\"1\" class=\"dataframe\">\n",
       "  <thead>\n",
       "    <tr style=\"text-align: right;\">\n",
       "      <th></th>\n",
       "      <th>image_name</th>\n",
       "      <th>image_lat</th>\n",
       "      <th>image_lon</th>\n",
       "      <th>cluster_lat</th>\n",
       "      <th>cluster_lon</th>\n",
       "      <th>cons_pc</th>\n",
       "      <th>nightlights</th>\n",
       "    </tr>\n",
       "  </thead>\n",
       "  <tbody>\n",
       "    <tr>\n",
       "      <th>0</th>\n",
       "      <td>4.283803377034023_6.263256104344023_4.32871914...</td>\n",
       "      <td>4.283803</td>\n",
       "      <td>6.263256</td>\n",
       "      <td>4.328719</td>\n",
       "      <td>6.308172</td>\n",
       "      <td>4.595377</td>\n",
       "      <td>0.126053</td>\n",
       "    </tr>\n",
       "    <tr>\n",
       "      <th>1</th>\n",
       "      <td>4.2987752984360155_6.263256104344023_4.3287191...</td>\n",
       "      <td>4.298775</td>\n",
       "      <td>6.263256</td>\n",
       "      <td>4.328719</td>\n",
       "      <td>6.308172</td>\n",
       "      <td>4.595377</td>\n",
       "      <td>0.126053</td>\n",
       "    </tr>\n",
       "    <tr>\n",
       "      <th>2</th>\n",
       "      <td>4.313747219838008_6.263256104344023_4.32871914...</td>\n",
       "      <td>4.313747</td>\n",
       "      <td>6.263256</td>\n",
       "      <td>4.328719</td>\n",
       "      <td>6.308172</td>\n",
       "      <td>4.595377</td>\n",
       "      <td>0.126053</td>\n",
       "    </tr>\n",
       "    <tr>\n",
       "      <th>3</th>\n",
       "      <td>4.32871914124_6.263256104344023_4.32871914124_...</td>\n",
       "      <td>4.328719</td>\n",
       "      <td>6.263256</td>\n",
       "      <td>4.328719</td>\n",
       "      <td>6.308172</td>\n",
       "      <td>4.595377</td>\n",
       "      <td>0.126053</td>\n",
       "    </tr>\n",
       "    <tr>\n",
       "      <th>4</th>\n",
       "      <td>4.343691062641992_6.263256104344023_4.32871914...</td>\n",
       "      <td>4.343691</td>\n",
       "      <td>6.263256</td>\n",
       "      <td>4.328719</td>\n",
       "      <td>6.308172</td>\n",
       "      <td>4.595377</td>\n",
       "      <td>0.126053</td>\n",
       "    </tr>\n",
       "  </tbody>\n",
       "</table>\n",
       "</div>"
      ],
      "text/plain": [
       "                                          image_name  image_lat  image_lon  \\\n",
       "0  4.283803377034023_6.263256104344023_4.32871914...   4.283803   6.263256   \n",
       "1  4.2987752984360155_6.263256104344023_4.3287191...   4.298775   6.263256   \n",
       "2  4.313747219838008_6.263256104344023_4.32871914...   4.313747   6.263256   \n",
       "3  4.32871914124_6.263256104344023_4.32871914124_...   4.328719   6.263256   \n",
       "4  4.343691062641992_6.263256104344023_4.32871914...   4.343691   6.263256   \n",
       "\n",
       "   cluster_lat  cluster_lon   cons_pc  nightlights  \n",
       "0     4.328719     6.308172  4.595377     0.126053  \n",
       "1     4.328719     6.308172  4.595377     0.126053  \n",
       "2     4.328719     6.308172  4.595377     0.126053  \n",
       "3     4.328719     6.308172  4.595377     0.126053  \n",
       "4     4.328719     6.308172  4.595377     0.126053  "
      ]
     },
     "execution_count": 17,
     "metadata": {},
     "output_type": "execute_result"
    }
   ],
   "source": [
    "df_ng_download.head()"
   ]
  },
  {
   "cell_type": "code",
   "execution_count": 18,
   "metadata": {},
   "outputs": [
    {
     "data": {
      "image/png": "[encoded data removed]",
      "text/plain": [
       "<Figure size 640x480 with 1 Axes>"
      ]
     },
     "metadata": {},
     "output_type": "display_data"
    }
   ],
   "source": [
    "gdf = gpd.GeoDataFrame(\n",
    "    df_ng_download, \n",
    "    geometry=gpd.points_from_xy(df_ng_download.image_lon, df_ng_download.image_lat)\n",
    ")\n",
    "\n",
    "# Basic plot\n",
    "gdf.plot(marker='o', color='blue', markersize=5)\n",
    "\n",
    "plt.xlabel('Longitude')\n",
    "plt.ylabel('Latitude')\n",
    "plt.title('Spatial Distribution of Download Locations in Nigeria')\n",
    "\n",
    "plt.show()"
   ]
  },
  {
   "cell_type": "code",
   "execution_count": 19,
   "metadata": {
    "tags": []
   },
   "outputs": [],
   "source": [
    "df_mw_download['country'] = 'mw'\n",
    "df_eth_download['country'] = 'eth'\n",
    "df_ng_download['country'] = 'ng'"
   ]
  },
  {
   "cell_type": "code",
   "execution_count": 20,
   "metadata": {
    "tags": []
   },
   "outputs": [],
   "source": [
    "# for image download purposes the country distinction is irreleveant\n",
    "df_potential_download = pd.concat([df_mw_download, df_eth_download, df_ng_download], axis=0)\n",
    "df_potential_download.reset_index(drop=True, inplace=True)"
   ]
  },
  {
   "cell_type": "code",
   "execution_count": 21,
   "metadata": {
    "tags": []
   },
   "outputs": [
    {
     "data": {
      "text/html": [
       "<div>\n",
       "<style scoped>\n",
       "    .dataframe tbody tr th:only-of-type {\n",
       "        vertical-align: middle;\n",
       "    }\n",
       "\n",
       "    .dataframe tbody tr th {\n",
       "        vertical-align: top;\n",
       "    }\n",
       "\n",
       "    .dataframe thead th {\n",
       "        text-align: right;\n",
       "    }\n",
       "</style>\n",
       "<table border=\"1\" class=\"dataframe\">\n",
       "  <thead>\n",
       "    <tr style=\"text-align: right;\">\n",
       "      <th></th>\n",
       "      <th>image_name</th>\n",
       "      <th>image_lat</th>\n",
       "      <th>image_lon</th>\n",
       "      <th>cluster_lat</th>\n",
       "      <th>cluster_lon</th>\n",
       "      <th>cons_pc</th>\n",
       "      <th>nightlights</th>\n",
       "      <th>country</th>\n",
       "    </tr>\n",
       "  </thead>\n",
       "  <tbody>\n",
       "    <tr>\n",
       "      <th>0</th>\n",
       "      <td>-17.138446419113176_35.20822373164363_-17.0935...</td>\n",
       "      <td>-17.138446</td>\n",
       "      <td>35.208224</td>\n",
       "      <td>-17.093531</td>\n",
       "      <td>35.253139</td>\n",
       "      <td>1.994561</td>\n",
       "      <td>0.034344</td>\n",
       "      <td>mw</td>\n",
       "    </tr>\n",
       "    <tr>\n",
       "      <th>1</th>\n",
       "      <td>-17.123474497711186_35.20822373164363_-17.0935...</td>\n",
       "      <td>-17.123474</td>\n",
       "      <td>35.208224</td>\n",
       "      <td>-17.093531</td>\n",
       "      <td>35.253139</td>\n",
       "      <td>1.994561</td>\n",
       "      <td>0.034344</td>\n",
       "      <td>mw</td>\n",
       "    </tr>\n",
       "    <tr>\n",
       "      <th>2</th>\n",
       "      <td>-17.108502576309192_35.20822373164363_-17.0935...</td>\n",
       "      <td>-17.108503</td>\n",
       "      <td>35.208224</td>\n",
       "      <td>-17.093531</td>\n",
       "      <td>35.253139</td>\n",
       "      <td>1.994561</td>\n",
       "      <td>0.034344</td>\n",
       "      <td>mw</td>\n",
       "    </tr>\n",
       "    <tr>\n",
       "      <th>3</th>\n",
       "      <td>-17.0935306549072_35.20822373164363_-17.093530...</td>\n",
       "      <td>-17.093531</td>\n",
       "      <td>35.208224</td>\n",
       "      <td>-17.093531</td>\n",
       "      <td>35.253139</td>\n",
       "      <td>1.994561</td>\n",
       "      <td>0.034344</td>\n",
       "      <td>mw</td>\n",
       "    </tr>\n",
       "    <tr>\n",
       "      <th>4</th>\n",
       "      <td>-17.07855873350521_35.20822373164363_-17.09353...</td>\n",
       "      <td>-17.078559</td>\n",
       "      <td>35.208224</td>\n",
       "      <td>-17.093531</td>\n",
       "      <td>35.253139</td>\n",
       "      <td>1.994561</td>\n",
       "      <td>0.034344</td>\n",
       "      <td>mw</td>\n",
       "    </tr>\n",
       "  </tbody>\n",
       "</table>\n",
       "</div>"
      ],
      "text/plain": [
       "                                          image_name  image_lat  image_lon  \\\n",
       "0  -17.138446419113176_35.20822373164363_-17.0935... -17.138446  35.208224   \n",
       "1  -17.123474497711186_35.20822373164363_-17.0935... -17.123474  35.208224   \n",
       "2  -17.108502576309192_35.20822373164363_-17.0935... -17.108503  35.208224   \n",
       "3  -17.0935306549072_35.20822373164363_-17.093530... -17.093531  35.208224   \n",
       "4  -17.07855873350521_35.20822373164363_-17.09353... -17.078559  35.208224   \n",
       "\n",
       "   cluster_lat  cluster_lon   cons_pc  nightlights country  \n",
       "0   -17.093531    35.253139  1.994561     0.034344      mw  \n",
       "1   -17.093531    35.253139  1.994561     0.034344      mw  \n",
       "2   -17.093531    35.253139  1.994561     0.034344      mw  \n",
       "3   -17.093531    35.253139  1.994561     0.034344      mw  \n",
       "4   -17.093531    35.253139  1.994561     0.034344      mw  "
      ]
     },
     "execution_count": 21,
     "metadata": {},
     "output_type": "execute_result"
    }
   ],
   "source": [
    "df_potential_download.head()"
   ]
  },
  {
   "cell_type": "markdown",
   "metadata": {},
   "source": [
    "# Filter Download Choices"
   ]
  },
  {
   "cell_type": "code",
   "execution_count": 22,
   "metadata": {
    "tags": []
   },
   "outputs": [
    {
     "data": {
      "text/plain": [
       "25.224468"
      ]
     },
     "execution_count": 22,
     "metadata": {},
     "output_type": "execute_result"
    }
   ],
   "source": [
    "df_potential_download['nightlights'].max()"
   ]
  },
  {
   "cell_type": "code",
   "execution_count": 23,
   "metadata": {
    "tags": []
   },
   "outputs": [
    {
     "name": "stdout",
     "output_type": "stream",
     "text": [
      "0.2995712754555198\n",
      "0.8413719185423365\n"
     ]
    }
   ],
   "source": [
    "# most nightlights are 0\n",
    "# let's download images that have nonzero nightlights to induce variety into the model\n",
    "print((df_potential_download['nightlights'] == 0).mean())\n",
    "print((df_potential_download['nightlights'] <= 2).mean())"
   ]
  },
  {
   "cell_type": "code",
   "execution_count": 24,
   "metadata": {
    "tags": []
   },
   "outputs": [],
   "source": [
    "def drop_0s(df, fr=0.1):\n",
    "    \"\"\"\n",
    "        Solves for d:\n",
    "            (c_z - d)/(n - d) = fr\n",
    "        Where d = rows to drop, c_z = num rows with zero nightlights, n = num rows, fr = frac remaining\n",
    "        \n",
    "        Yields:\n",
    "        d = (c_z - n*fr) / (1 - fr)\n",
    "    \"\"\"\n",
    "    np.random.seed(RANDOM_SEED)\n",
    "    c_z = (df['nightlights']==0).sum()\n",
    "    n = len(df)\n",
    "    assert c_z / n > fr, print(f'Dataframe already has under {fr} zeros')\n",
    "    \n",
    "    d = (c_z - n * fr) / (1 - fr)\n",
    "    d = int(d)\n",
    "    print(f'dropping: {d}')\n",
    "    \n",
    "    zero_df = df[df['nightlights']==0]\n",
    "    zero_clusters = zero_df.groupby(['cluster_lat', 'cluster_lon'])\n",
    "    per_cluster_drop = int(d / len(zero_clusters))\n",
    "    print(f'Need to drop {per_cluster_drop} per cluster with 0 nightlights')\n",
    "    \n",
    "    drop_inds = []\n",
    "    for (cluster_lat, cluster_lon), group in zero_clusters:\n",
    "        z_inds = group.index\n",
    "        clust_drop = np.random.choice(z_inds, per_cluster_drop, replace=False)\n",
    "        assert len(group) - len(clust_drop) >= MIN_IMAGES_PER_CLUSTER, print(f'dropping too many in {cluster_lat}, {cluster_lon}')\n",
    "        drop_inds += clust_drop.tolist()\n",
    "    \n",
    "    # this is how you do it purely randomly but some clusters might get wiped out\n",
    "    # z_inds = np.argwhere(df['nightlights'].values == 0).reshape(-1)\n",
    "    # drop_inds = np.random.choice(z_inds, d, replace=False)\n",
    "    return df.drop(drop_inds).reset_index(drop=True)\n",
    "\n",
    "def drop_in_range(df, lower=0, upper=2, fr=0.25):\n",
    "    \"\"\"\n",
    "        Very similar to drop_0s calculation, but more generalized. Lower and upper are inclusive.\n",
    "    \"\"\"\n",
    "    np.random.seed(RANDOM_SEED)\n",
    "    boolean_idx = ((lower <= df['nightlights']) & (df['nightlights'] <= upper))\n",
    "    c_under = boolean_idx.sum()\n",
    "    n = len(df)\n",
    "    assert c_under / n > fr, print(f'Dataframe already has under {fr} rows in the given range')\n",
    "    \n",
    "    d = (c_under - n * fr) / (1 - fr)\n",
    "    d = int(d)\n",
    "    print(f'dropping: {d}')\n",
    "    \n",
    "    select_df = df[boolean_idx]\n",
    "    select_clusters = select_df.groupby(['cluster_lat', 'cluster_lon'])\n",
    "    per_cluster_drop = int(d / len(select_clusters))\n",
    "    print(f'Need to drop {per_cluster_drop} per cluster in the given range')\n",
    "    \n",
    "    drop_inds = []\n",
    "    for (cluster_lat, cluster_lon), group in select_clusters:\n",
    "        z_inds = group.index\n",
    "        clust_drop = np.random.choice(z_inds, per_cluster_drop, replace=False)\n",
    "        assert len(group) - len(clust_drop) >= MIN_IMAGES_PER_CLUSTER, print(f'dropping too many in {cluster_lat}, {cluster_lon}')\n",
    "        drop_inds += clust_drop.tolist()\n",
    "        \n",
    "    return df.drop(drop_inds).reset_index(drop=True)\n"
   ]
  },
  {
   "cell_type": "code",
   "execution_count": 25,
   "metadata": {
    "tags": []
   },
   "outputs": [
    {
     "name": "stdout",
     "output_type": "stream",
     "text": [
      "dropping: 20688\n",
      "Need to drop 37 per cluster with 0 nightlights\n"
     ]
    }
   ],
   "source": [
    "df_mod_download = drop_0s(df_potential_download, fr=0.1)"
   ]
  },
  {
   "cell_type": "code",
   "execution_count": 26,
   "metadata": {
    "tags": []
   },
   "outputs": [
    {
     "data": {
      "text/plain": [
       "0.10007298566451382"
      ]
     },
     "execution_count": 26,
     "metadata": {},
     "output_type": "execute_result"
    }
   ],
   "source": [
    "(df_mod_download['nightlights'] == 0).mean()"
   ]
  },
  {
   "cell_type": "code",
   "execution_count": 27,
   "metadata": {
    "tags": []
   },
   "outputs": [
    {
     "name": "stdout",
     "output_type": "stream",
     "text": [
      "dropping: 41172\n",
      "Need to drop 38 per cluster in the given range\n"
     ]
    }
   ],
   "source": [
    "df_mod_download = drop_in_range(df_mod_download, lower=0.001, upper=3, fr=0.4)"
   ]
  },
  {
   "cell_type": "code",
   "execution_count": 28,
   "metadata": {
    "tags": []
   },
   "outputs": [
    {
     "data": {
      "text/plain": [
       "0.40608178298234016"
      ]
     },
     "execution_count": 28,
     "metadata": {},
     "output_type": "execute_result"
    }
   ],
   "source": [
    "((0.001 <= df_mod_download['nightlights']) & (df_mod_download['nightlights'] <= 3)).mean()"
   ]
  },
  {
   "cell_type": "code",
   "execution_count": 29,
   "metadata": {
    "tags": []
   },
   "outputs": [
    {
     "data": {
      "text/plain": [
       "0.22875940441338496"
      ]
     },
     "execution_count": 29,
     "metadata": {},
     "output_type": "execute_result"
    }
   ],
   "source": [
    "# this has gone up now though\n",
    "(df_mod_download['nightlights'] == 0).mean()"
   ]
  },
  {
   "cell_type": "code",
   "execution_count": 30,
   "metadata": {
    "tags": []
   },
   "outputs": [
    {
     "name": "stdout",
     "output_type": "stream",
     "text": [
      "dropping: 1141\n",
      "Need to drop 2 per cluster with 0 nightlights\n"
     ]
    }
   ],
   "source": [
    "df_mod_download = drop_0s(df_mod_download, fr=0.2)"
   ]
  },
  {
   "cell_type": "markdown",
   "metadata": {},
   "source": [
    "At this point the low nightlight clusters (0 and under 3) have 11 and 12 images respectively, meaning very few more images can be dropped without going under 10."
   ]
  },
  {
   "cell_type": "code",
   "execution_count": 31,
   "metadata": {
    "tags": []
   },
   "outputs": [],
   "source": [
    "from sklearn.mixture import GaussianMixture as GMM\n",
    "X = df_mod_download['nightlights'].values.reshape(-1,1)\n",
    "gmm = GMM(n_components=3).fit(X)\n",
    "labels = gmm.predict(df_mod_download['nightlights'].values.reshape(-1,1))"
   ]
  },
  {
   "cell_type": "code",
   "execution_count": 32,
   "metadata": {
    "tags": []
   },
   "outputs": [
    {
     "data": {
      "text/plain": [
       "(0.43107442330908025, 0.42373323762602366, 0.1451923390648961)"
      ]
     },
     "execution_count": 32,
     "metadata": {},
     "output_type": "execute_result"
    }
   ],
   "source": [
    "(labels==0).mean(), (labels==1).mean(), (labels==2).mean()"
   ]
  },
  {
   "cell_type": "code",
   "execution_count": 33,
   "metadata": {
    "tags": []
   },
   "outputs": [
    {
     "data": {
      "text/plain": [
       "(6.7191277, 0.056534678, 25.224468)"
      ]
     },
     "execution_count": 33,
     "metadata": {},
     "output_type": "execute_result"
    }
   ],
   "source": [
    "# these are the cutoff for the labels identified by the Guassian Mixture Model\n",
    "label0_max = df_mod_download['nightlights'][labels==0].max()\n",
    "label1_max = df_mod_download['nightlights'][labels==1].max()\n",
    "label2_max = df_mod_download['nightlights'][labels==2].max()\n",
    "\n",
    "label0_max, label1_max, label2_max"
   ]
  },
  {
   "cell_type": "code",
   "execution_count": 34,
   "metadata": {
    "tags": []
   },
   "outputs": [],
   "source": [
    "# I am going to hand reassign these to have better representation among all three classes\n",
    "# these are not ideal distributions obviously but the model should still be able to learn\n",
    "# something like a quantile cut might work better and be less arbitrary, but for reproducability \n",
    "# purposes I'll stick to the GMM-based approach\n",
    "label0_max = 0.05\n",
    "label1_max = 5\n",
    "label2_max = 70"
   ]
  },
  {
   "cell_type": "code",
   "execution_count": 35,
   "metadata": {
    "tags": []
   },
   "outputs": [
    {
     "name": "stdout",
     "output_type": "stream",
     "text": [
      "0.41511957975790403\n",
      "0.37117034813533883\n",
      "0.21371007210675716\n"
     ]
    }
   ],
   "source": [
    "def query_df(df, lower, upper):\n",
    "    return df[((lower <= df['nightlights']) & (df['nightlights'] < upper))]\n",
    "\n",
    "print(len(query_df(df_mod_download, 0, label0_max)) / len(df_mod_download))\n",
    "print(len(query_df(df_mod_download, label0_max, label1_max)) / len(df_mod_download))\n",
    "print(len(query_df(df_mod_download, label1_max, label2_max)) / len(df_mod_download))"
   ]
  },
  {
   "cell_type": "code",
   "execution_count": 36,
   "metadata": {
    "tags": []
   },
   "outputs": [
    {
     "name": "stderr",
     "output_type": "stream",
     "text": [
      "C:\\Users\\Dima\\AppData\\Local\\Temp\\ipykernel_1512\\4028382644.py:7: SettingWithCopyWarning: \n",
      "A value is trying to be set on a copy of a slice from a DataFrame\n",
      "\n",
      "See the caveats in the documentation: https://pandas.pydata.org/pandas-docs/stable/user_guide/indexing.html#returning-a-view-versus-a-copy\n",
      "  df['nightlights_bin'].loc[df['nightlights'] <= cutoff] = label\n",
      "C:\\Users\\Dima\\AppData\\Local\\Temp\\ipykernel_1512\\4028382644.py:7: SettingWithCopyWarning: \n",
      "A value is trying to be set on a copy of a slice from a DataFrame\n",
      "\n",
      "See the caveats in the documentation: https://pandas.pydata.org/pandas-docs/stable/user_guide/indexing.html#returning-a-view-versus-a-copy\n",
      "  df['nightlights_bin'].loc[df['nightlights'] <= cutoff] = label\n",
      "C:\\Users\\Dima\\AppData\\Local\\Temp\\ipykernel_1512\\4028382644.py:7: SettingWithCopyWarning: \n",
      "A value is trying to be set on a copy of a slice from a DataFrame\n",
      "\n",
      "See the caveats in the documentation: https://pandas.pydata.org/pandas-docs/stable/user_guide/indexing.html#returning-a-view-versus-a-copy\n",
      "  df['nightlights_bin'].loc[df['nightlights'] <= cutoff] = label\n"
     ]
    }
   ],
   "source": [
    "def create_nightlights_bin(df, cutoffs):\n",
    "    assert len(cutoffs) >= 2, print('need at least 2 bins')\n",
    "    cutoffs = sorted(cutoffs, reverse=True)\n",
    "    labels = list(range(len(cutoffs)))[::-1]\n",
    "    df['nightlights_bin'] = len(cutoffs)\n",
    "    for cutoff, label in zip(cutoffs, labels):\n",
    "        df['nightlights_bin'].loc[df['nightlights'] <= cutoff] = label\n",
    "\n",
    "df_download = df_mod_download.copy()\n",
    "create_nightlights_bin(df_download, cutoffs=[label0_max, label1_max, label2_max])"
   ]
  },
  {
   "cell_type": "code",
   "execution_count": 37,
   "metadata": {
    "tags": []
   },
   "outputs": [
    {
     "data": {
      "text/plain": [
       "(0.41511957975790403, 0.37117034813533883, 0.21371007210675716)"
      ]
     },
     "execution_count": 37,
     "metadata": {},
     "output_type": "execute_result"
    }
   ],
   "source": [
    "# these should match above\n",
    "(df_download['nightlights_bin']==0).mean(), (df_download['nightlights_bin']==1).mean(), (df_download['nightlights_bin']==2).mean()\n"
   ]
  },
  {
   "cell_type": "code",
   "execution_count": 38,
   "metadata": {
    "tags": []
   },
   "outputs": [
    {
     "data": {
      "text/plain": [
       "(30649, 9)"
      ]
     },
     "execution_count": 38,
     "metadata": {},
     "output_type": "execute_result"
    }
   ],
   "source": [
    "df_download.shape"
   ]
  },
  {
   "cell_type": "code",
   "execution_count": 39,
   "metadata": {
    "tags": []
   },
   "outputs": [],
   "source": [
    "os.makedirs(PROCESSED_DIR, exist_ok=True)"
   ]
  },
  {
   "cell_type": "code",
   "execution_count": 40,
   "metadata": {
    "tags": []
   },
   "outputs": [],
   "source": [
    "df_download.to_csv(os.path.join(PROCESSED_DIR, 'image_download_locs.csv'), index=False)"
   ]
  },
  {
   "cell_type": "markdown",
   "metadata": {},
   "source": [
    "# Download Images\n",
    "If the script breaks, you can restart here by uncommenting the line below and running the below code again. It won't download images you have already downloaded."
   ]
  },
  {
   "cell_type": "code",
   "execution_count": 41,
   "metadata": {
    "tags": []
   },
   "outputs": [],
   "source": [
    "#df_download = pd.read_csv(os.path.join(PROCESSED_DIR, 'image_download_locs.csv'))"
   ]
  },
  {
   "cell_type": "code",
   "execution_count": 42,
   "metadata": {},
   "outputs": [],
   "source": [
    "# you can try the google downloader if you don't have the planet API key\n",
    "# the tradeoff is that planet's data can be queried with time, but Google's images\n",
    "# are higher res\n",
    "from utils import GoogleDownloader"
   ]
  },
  {
   "cell_type": "code",
   "execution_count": 43,
   "metadata": {},
   "outputs": [
    {
     "data": {
      "text/plain": [
       "Index(['country', 'cluster_lat', 'cluster_lon', 'cons_pc', 'nightlights'], dtype='object')"
      ]
     },
     "execution_count": 43,
     "metadata": {},
     "output_type": "execute_result"
    }
   ],
   "source": [
    "df_eth.columns"
   ]
  },
  {
   "cell_type": "code",
   "execution_count": 44,
   "metadata": {
    "tags": []
   },
   "outputs": [
    {
     "data": {
      "text/plain": [
       "array([[[0.29803923, 0.32941177, 0.26666668, 1.        ],\n",
       "        [0.36078432, 0.3882353 , 0.36078432, 1.        ],\n",
       "        [0.38039216, 0.39215687, 0.38431373, 1.        ],\n",
       "        ...,\n",
       "        [0.2901961 , 0.2901961 , 0.2901961 , 1.        ],\n",
       "        [0.3137255 , 0.32941177, 0.29803923, 1.        ],\n",
       "        [0.63529414, 0.63529414, 0.62352943, 1.        ]],\n",
       "\n",
       "       [[0.42352942, 0.45490196, 0.39215687, 1.        ],\n",
       "        [0.40784314, 0.42352942, 0.39215687, 1.        ],\n",
       "        [0.22352941, 0.25490198, 0.22352941, 1.        ],\n",
       "        ...,\n",
       "        [0.5058824 , 0.50980395, 0.50980395, 1.        ],\n",
       "        [0.7019608 , 0.7019608 , 0.7019608 , 1.        ],\n",
       "        [0.7921569 , 0.8       , 0.8       , 1.        ]],\n",
       "\n",
       "       [[0.4509804 , 0.47058824, 0.44705883, 1.        ],\n",
       "        [0.36078432, 0.3882353 , 0.36078432, 1.        ],\n",
       "        [0.15686275, 0.19607843, 0.16470589, 1.        ],\n",
       "        ...,\n",
       "        [0.7607843 , 0.7607843 , 0.7607843 , 1.        ],\n",
       "        [0.79607844, 0.83137256, 0.83137256, 1.        ],\n",
       "        [0.6745098 , 0.6745098 , 0.64705884, 1.        ]],\n",
       "\n",
       "       ...,\n",
       "\n",
       "       [[0.1882353 , 0.2509804 , 0.20392157, 1.        ],\n",
       "        [0.15686275, 0.19607843, 0.16470589, 1.        ],\n",
       "        [0.07450981, 0.10588235, 0.07450981, 1.        ],\n",
       "        ...,\n",
       "        [0.07450981, 0.10588235, 0.07450981, 1.        ],\n",
       "        [0.20392157, 0.20392157, 0.19607843, 1.        ],\n",
       "        [0.20392157, 0.20392157, 0.19607843, 1.        ]],\n",
       "\n",
       "       [[0.1254902 , 0.16862746, 0.13725491, 1.        ],\n",
       "        [0.14117648, 0.16862746, 0.16862746, 1.        ],\n",
       "        [0.1254902 , 0.16862746, 0.13725491, 1.        ],\n",
       "        ...,\n",
       "        [0.07058824, 0.07843138, 0.07058824, 1.        ],\n",
       "        [0.20392157, 0.20392157, 0.19607843, 1.        ],\n",
       "        [0.13725491, 0.14117648, 0.13333334, 1.        ]],\n",
       "\n",
       "       [[0.07450981, 0.10588235, 0.07450981, 1.        ],\n",
       "        [0.19215687, 0.22352941, 0.19215687, 1.        ],\n",
       "        [0.22352941, 0.25490198, 0.22352941, 1.        ],\n",
       "        ...,\n",
       "        [0.07058824, 0.07843138, 0.07058824, 1.        ],\n",
       "        [0.17254902, 0.17254902, 0.16078432, 1.        ],\n",
       "        [0.13725491, 0.13725491, 0.10980392, 1.        ]]], dtype=float32)"
      ]
     },
     "execution_count": 44,
     "metadata": {},
     "output_type": "execute_result"
    }
   ],
   "source": [
    "# this demonstrates the API call\n",
    "lat = 38.441332\n",
    "lon = -105.234751\n",
    "min_year = 2016\n",
    "min_month = 1\n",
    "max_year = 2016\n",
    "max_month = 12\n",
    "\n",
    "access = open(ACCESS_TOKEN_DIR, 'r').readlines()[0].strip()\n",
    "downloader = GoogleDownloader(access)\n",
    "downloader.download(lat, lon,zoom=16)"
   ]
  },
  {
   "cell_type": "code",
   "execution_count": 45,
   "metadata": {
    "tags": []
   },
   "outputs": [],
   "source": [
    "def download_images(df):\n",
    "    \"\"\"\n",
    "    Download images using a pandas DataFrame that has \"image_lat\", \"image_lon\", \"image_name\", \"country\" as columns\n",
    "    \n",
    "    Saves images to the corresponding country's images folder\n",
    "\n",
    "    To use the Google Downloader, switch PlanetDownloader to GoogleDownloader and make imd.download_image only\n",
    "    provide lat and lon as arguments. Use zoom = 16.\n",
    "    \"\"\"\n",
    "    access = None\n",
    "    with open(ACCESS_TOKEN_DIR, 'r') as f:\n",
    "        access = f.readlines()[0]\n",
    "    imd = GoogleDownloader(access)\n",
    "    num_retries = 20\n",
    "    wait_time = 0.1 # seconds\n",
    "    zoom = 16\n",
    "\n",
    "    # drops what is already downloaded\n",
    "    already_downloaded = os.listdir(os.path.join(COUNTRIES_DIR, 'malawi_2019', 'images')) + \\\n",
    "                        os.listdir(os.path.join(COUNTRIES_DIR, 'ethiopia_2019', 'images')) + \\\n",
    "                        os.listdir(os.path.join(COUNTRIES_DIR, 'nigeria_2019', 'images'))\n",
    "    already_downloaded =  list(set(already_downloaded).intersection(set(df['image_name'])))\n",
    "    print('Already downloaded ' + str(len(already_downloaded)))\n",
    "    df = df.set_index('image_name').drop(already_downloaded).reset_index()\n",
    "    print('Need to download ' + str(len(df)))\n",
    "    # use three years of images to find one that matches search critera\n",
    "    min_year = 2018\n",
    "    min_month = 1\n",
    "    max_year = 2019\n",
    "    max_month = 12\n",
    "    for _, r in tqdm(df.iterrows(), total=df.shape[0]):\n",
    "        lat = r.image_lat\n",
    "        lon = r.image_lon\n",
    "        name = r.image_name\n",
    "        country_dir = None\n",
    "        if r.country == 'mw':\n",
    "            country_dir = 'malawi_2019'\n",
    "        elif r.country == 'eth':\n",
    "            country_dir = 'ethiopia_2019'\n",
    "        elif r.country == 'ng':\n",
    "            country_dir = 'nigeria_2019'\n",
    "        else:\n",
    "            print(f\"unrecognized country: {r.country}\")\n",
    "            raise ValueError()\n",
    "        image_save_path = os.path.join(COUNTRIES_DIR, country_dir, 'images', r.image_name)\n",
    "        try:\n",
    "            im = imd.download(lat, lon, zoom)\n",
    "            if (type(im) == str and im == 'RETRY') or im is None:\n",
    "                resolved = False\n",
    "                for _ in range(num_retries):\n",
    "                    time.sleep(wait_time)\n",
    "                    im = imd.download(lat, lon, zoom)\n",
    "                    if (type(im) == str and im == 'RETRY') or im is None:\n",
    "                        continue\n",
    "                    else:\n",
    "                        plt.imsave(image_save_path, im)\n",
    "                        resolved = True\n",
    "                        break\n",
    "                if not resolved:\n",
    "                    print(f'Could not download {lat}, {lon} despite several retries and waiting')\n",
    "                    continue\n",
    "                else:\n",
    "                    pass\n",
    "            else:\n",
    "                # no issues, save according to naming convention\n",
    "                plt.imsave(image_save_path, im)\n",
    "\n",
    "        except Exception as e:\n",
    "            logging.error(f\"Error-could not download {lat}, {lon}\", exc_info=True)\n",
    "            continue"
   ]
  },
  {
   "cell_type": "code",
   "execution_count": 46,
   "metadata": {
    "tags": []
   },
   "outputs": [
    {
     "name": "stdout",
     "output_type": "stream",
     "text": [
      "Already downloaded 29540\n",
      "Need to download 1109\n"
     ]
    },
    {
     "data": {
      "application/vnd.jupyter.widget-view+json": {
       "model_id": "47f65ddb3ab540068bb859b0e98e05c2",
       "version_major": 2,
       "version_minor": 0
      },
      "text/plain": [
       "  0%|          | 0/1109 [00:00<?, ?it/s]"
      ]
     },
     "metadata": {},
     "output_type": "display_data"
    }
   ],
   "source": [
    "download_images(df_download)"
   ]
  },
  {
   "cell_type": "code",
   "execution_count": null,
   "metadata": {},
   "outputs": [],
   "source": []
  }
 ],
 "metadata": {
  "environment": {
   "name": "pytorch-gpu.1-4.m46",
   "type": "gcloud",
   "uri": "gcr.io/deeplearning-platform-release/pytorch-gpu.1-4:m46"
  },
  "kernelspec": {
   "display_name": "Python 3 (ipykernel)",
   "language": "python",
   "name": "python3"
  },
  "language_info": {
   "codemirror_mode": {
    "name": "ipython",
    "version": 3
   },
   "file_extension": ".py",
   "mimetype": "text/x-python",
   "name": "python",
   "nbconvert_exporter": "python",
   "pygments_lexer": "ipython3",
   "version": "3.9.18"
  }
 },
 "nbformat": 4,
 "nbformat_minor": 4
}
